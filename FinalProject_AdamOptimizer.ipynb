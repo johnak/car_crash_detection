{
 "cells": [
  {
   "cell_type": "code",
   "execution_count": 48,
   "metadata": {},
   "outputs": [],
   "source": [
    "import tensorflow as tf\n",
    "from tensorflow.keras.applications import VGG16\n",
    "from tensorflow.keras.layers import Input, Flatten, Dense, Dropout\n",
    "from tensorflow.keras.models import Model, load_model\n",
    "from tensorflow.keras.preprocessing.image import ImageDataGenerator\n",
    "from tensorflow.keras.optimizers import Adam, Nadam, Adamax\n",
    "from tensorflow.keras.callbacks import EarlyStopping, ModelCheckpoint\n",
    "import numpy as np\n",
    "import matplotlib.pyplot as plt\n",
    "from tensorflow.keras.preprocessing import image\n",
    "from sklearn.metrics import classification_report, confusion_matrix\n",
    "import os\n"
   ]
  },
  {
   "cell_type": "code",
   "execution_count": 4,
   "metadata": {},
   "outputs": [
    {
     "name": "stdout",
     "output_type": "stream",
     "text": [
      "Downloading data from https://storage.googleapis.com/tensorflow/keras-applications/vgg16/vgg16_weights_tf_dim_ordering_tf_kernels_notop.h5\n",
      "\u001b[1m58889256/58889256\u001b[0m \u001b[32m━━━━━━━━━━━━━━━━━━━━\u001b[0m\u001b[37m\u001b[0m \u001b[1m8s\u001b[0m 0us/step\n"
     ]
    }
   ],
   "source": [
    "base_model = VGG16(weights='imagenet', include_top=False, input_shape=(224, 224, 3))\n",
    "x = base_model.output\n",
    "x = Flatten()(x)\n",
    "x = Dense(512, activation='relu')(x)\n",
    "x = Dropout(0.5)(x)\n",
    "x = Dense(1, activation='sigmoid')(x)  # Binary classification\n",
    "\n",
    "model = Model(inputs=base_model.input, outputs=x)\n",
    "for layer in base_model.layers:\n",
    "    layer.trainable = False\n",
    "\n",
    "model.compile(optimizer=Adam(learning_rate=1e-4), loss='binary_crossentropy', metrics=['accuracy'])"
   ]
  },
  {
   "cell_type": "code",
   "execution_count": 5,
   "metadata": {},
   "outputs": [
    {
     "name": "stdout",
     "output_type": "stream",
     "text": [
      "Found 12966 images belonging to 2 classes.\n"
     ]
    }
   ],
   "source": [
    "train_datagen = ImageDataGenerator(rescale=1./255, shear_range=0.2, zoom_range=0.2, horizontal_flip=True, )\n",
    "\n",
    "train_generator = train_datagen.flow_from_directory(\n",
    "    'E://MS_USD//Course 2_AAI-501//FinalProject//Train',  # Replace with the path to your train folder\n",
    "    target_size=(224, 224),\n",
    "    batch_size=32,\n",
    "    class_mode='binary'\n",
    ")"
   ]
  },
  {
   "cell_type": "code",
   "execution_count": 29,
   "metadata": {},
   "outputs": [
    {
     "data": {
      "text/plain": [
       "{'Accident': 0, 'NonAccident': 1}"
      ]
     },
     "execution_count": 29,
     "metadata": {},
     "output_type": "execute_result"
    }
   ],
   "source": [
    "train_generator.class_indices"
   ]
  },
  {
   "cell_type": "code",
   "execution_count": null,
   "metadata": {},
   "outputs": [
    {
     "name": "stdout",
     "output_type": "stream",
     "text": [
      "Found 4322 images belonging to 2 classes.\n"
     ]
    }
   ],
   "source": [
    "validation_datagen = ImageDataGenerator(rescale=1./255)\n",
    "validation_generator = validation_datagen.flow_from_directory(\n",
    "    'E://MS_USD//Course 2_AAI-501//FinalProject//Validation',  # Replace with the path to your validation folder\n",
    "    target_size=(224, 224),\n",
    "    batch_size=32,\n",
    "    class_mode='binary'\n",
    ")"
   ]
  },
  {
   "cell_type": "code",
   "execution_count": 51,
   "metadata": {},
   "outputs": [
    {
     "name": "stdout",
     "output_type": "stream",
     "text": [
      "Found 4323 images belonging to 2 classes.\n"
     ]
    }
   ],
   "source": [
    "test_datagen = ImageDataGenerator(rescale=1./255)\n",
    "test_generator = test_datagen.flow_from_directory(\n",
    "    'E://MS_USD//Course 2_AAI-501//FinalProject//Test',  # Replace with the path to your validation folder\n",
    "    target_size=(224, 224),\n",
    "    batch_size=32,\n",
    "    class_mode='binary'\n",
    ")"
   ]
  },
  {
   "cell_type": "code",
   "execution_count": null,
   "metadata": {},
   "outputs": [],
   "source": [
    "checkpoint_callback = ModelCheckpoint(\n",
    "    'E://MS_USD//Course 2_AAI-501//FinalProject//RmsPropModel//vgg16Model_checkpoint_{epoch:02d}_val_acc_{val_accuracy:.2f}.keras',\n",
    "    save_best_only=False,\n",
    "    save_weights_only=False,\n",
    "    mode='auto'\n",
    ")\n",
    "early_stopping = EarlyStopping(\n",
    "monitor='val_accuracy', # Monitor validation accuracy\n",
    "min_delta=0.001, # Minimum change to qualify as an improvement\n",
    "patience=10, # Number of epochs to wait for an improvement\n",
    "verbose=1,\n",
    "mode='max', # Stop when the quantity monitored has stopped increasing\n",
    "restore_best_weights=True # Restore the weights of the best epoch\n",
    ")\n"
   ]
  },
  {
   "cell_type": "code",
   "execution_count": 22,
   "metadata": {},
   "outputs": [],
   "source": [
    "def trainModel(model):\n",
    "    history = model.fit(\n",
    "        train_generator,\n",
    "        steps_per_epoch=train_generator.samples // train_generator.batch_size,\n",
    "        epochs=30,\n",
    "        validation_data=validation_generator,\n",
    "        validation_steps=validation_generator.samples // validation_generator.batch_size,\n",
    "        callbacks=[early_stopping, checkpoint_callback]\n",
    "        )\n",
    "    return history\n"
   ]
  },
  {
   "cell_type": "code",
   "execution_count": null,
   "metadata": {},
   "outputs": [],
   "source": [
    "model_e = load_model('E://MS_USD//Course 2_AAI-501//FinalProject//vgg16Model_checkpoint_05_val_acc_0.29.keras')\n"
   ]
  },
  {
   "cell_type": "code",
   "execution_count": 24,
   "metadata": {},
   "outputs": [
    {
     "name": "stdout",
     "output_type": "stream",
     "text": [
      "Epoch 1/30\n",
      "\u001b[1m405/405\u001b[0m \u001b[32m━━━━━━━━━━━━━━━━━━━━\u001b[0m\u001b[37m\u001b[0m \u001b[1m2995s\u001b[0m 7s/step - accuracy: 0.9626 - loss: 0.1066 - val_accuracy: 0.2993 - val_loss: 3.4308\n",
      "Epoch 2/30\n",
      "\u001b[1m405/405\u001b[0m \u001b[32m━━━━━━━━━━━━━━━━━━━━\u001b[0m\u001b[37m\u001b[0m \u001b[1m9s\u001b[0m 8ms/step - accuracy: 1.0000 - loss: 0.0412 - val_accuracy: 0.0000e+00 - val_loss: 7.1990\n",
      "Epoch 3/30\n",
      "\u001b[1m405/405\u001b[0m \u001b[32m━━━━━━━━━━━━━━━━━━━━\u001b[0m\u001b[37m\u001b[0m \u001b[1m2988s\u001b[0m 7s/step - accuracy: 0.9655 - loss: 0.0960 - val_accuracy: 0.3238 - val_loss: 4.2101\n",
      "Epoch 4/30\n",
      "\u001b[1m405/405\u001b[0m \u001b[32m━━━━━━━━━━━━━━━━━━━━\u001b[0m\u001b[37m\u001b[0m \u001b[1m13s\u001b[0m 19ms/step - accuracy: 0.9375 - loss: 0.1357 - val_accuracy: 0.5000 - val_loss: 1.9148\n",
      "Epoch 5/30\n",
      "\u001b[1m405/405\u001b[0m \u001b[32m━━━━━━━━━━━━━━━━━━━━\u001b[0m\u001b[37m\u001b[0m \u001b[1m2918s\u001b[0m 7s/step - accuracy: 0.9716 - loss: 0.0833 - val_accuracy: 0.3037 - val_loss: 4.4894\n",
      "Epoch 6/30\n",
      "\u001b[1m405/405\u001b[0m \u001b[32m━━━━━━━━━━━━━━━━━━━━\u001b[0m\u001b[37m\u001b[0m \u001b[1m8s\u001b[0m 8ms/step - accuracy: 1.0000 - loss: 0.0279 - val_accuracy: 0.0000e+00 - val_loss: 6.4750\n",
      "Epoch 7/30\n",
      "\u001b[1m405/405\u001b[0m \u001b[32m━━━━━━━━━━━━━━━━━━━━\u001b[0m\u001b[37m\u001b[0m \u001b[1m2866s\u001b[0m 7s/step - accuracy: 0.9704 - loss: 0.0839 - val_accuracy: 0.3266 - val_loss: 4.2939\n",
      "Epoch 8/30\n",
      "\u001b[1m405/405\u001b[0m \u001b[32m━━━━━━━━━━━━━━━━━━━━\u001b[0m\u001b[37m\u001b[0m \u001b[1m12s\u001b[0m 16ms/step - accuracy: 0.9688 - loss: 0.0791 - val_accuracy: 0.0000e+00 - val_loss: 5.6927\n",
      "Epoch 9/30\n",
      "\u001b[1m405/405\u001b[0m \u001b[32m━━━━━━━━━━━━━━━━━━━━\u001b[0m\u001b[37m\u001b[0m \u001b[1m2910s\u001b[0m 7s/step - accuracy: 0.9706 - loss: 0.0820 - val_accuracy: 0.3336 - val_loss: 4.3857\n",
      "Epoch 10/30\n",
      "\u001b[1m405/405\u001b[0m \u001b[32m━━━━━━━━━━━━━━━━━━━━\u001b[0m\u001b[37m\u001b[0m \u001b[1m16s\u001b[0m 26ms/step - accuracy: 0.9375 - loss: 0.2699 - val_accuracy: 0.0000e+00 - val_loss: 7.1544\n",
      "Epoch 11/30\n",
      "\u001b[1m405/405\u001b[0m \u001b[32m━━━━━━━━━━━━━━━━━━━━\u001b[0m\u001b[37m\u001b[0m \u001b[1m2866s\u001b[0m 7s/step - accuracy: 0.9754 - loss: 0.0709 - val_accuracy: 0.3282 - val_loss: 4.1290\n",
      "Epoch 12/30\n",
      "\u001b[1m405/405\u001b[0m \u001b[32m━━━━━━━━━━━━━━━━━━━━\u001b[0m\u001b[37m\u001b[0m \u001b[1m17s\u001b[0m 30ms/step - accuracy: 1.0000 - loss: 0.0373 - val_accuracy: 0.5000 - val_loss: 1.8301\n",
      "Epoch 13/30\n",
      "\u001b[1m405/405\u001b[0m \u001b[32m━━━━━━━━━━━━━━━━━━━━\u001b[0m\u001b[37m\u001b[0m \u001b[1m2896s\u001b[0m 7s/step - accuracy: 0.9759 - loss: 0.0693 - val_accuracy: 0.3028 - val_loss: 4.7675\n",
      "Epoch 14/30\n",
      "\u001b[1m405/405\u001b[0m \u001b[32m━━━━━━━━━━━━━━━━━━━━\u001b[0m\u001b[37m\u001b[0m \u001b[1m11s\u001b[0m 14ms/step - accuracy: 0.9688 - loss: 0.0463 - val_accuracy: 1.0000 - val_loss: 0.1339\n",
      "Epoch 15/30\n",
      "\u001b[1m405/405\u001b[0m \u001b[32m━━━━━━━━━━━━━━━━━━━━\u001b[0m\u001b[37m\u001b[0m \u001b[1m2909s\u001b[0m 7s/step - accuracy: 0.9763 - loss: 0.0675 - val_accuracy: 0.3472 - val_loss: 5.1847\n",
      "Epoch 16/30\n",
      "\u001b[1m405/405\u001b[0m \u001b[32m━━━━━━━━━━━━━━━━━━━━\u001b[0m\u001b[37m\u001b[0m \u001b[1m10s\u001b[0m 10ms/step - accuracy: 1.0000 - loss: 0.0535 - val_accuracy: 0.5000 - val_loss: 5.8862\n",
      "Epoch 17/30\n",
      "\u001b[1m405/405\u001b[0m \u001b[32m━━━━━━━━━━━━━━━━━━━━\u001b[0m\u001b[37m\u001b[0m \u001b[1m2858s\u001b[0m 7s/step - accuracy: 0.9766 - loss: 0.0653 - val_accuracy: 0.3424 - val_loss: 5.0445\n",
      "Epoch 18/30\n",
      "\u001b[1m405/405\u001b[0m \u001b[32m━━━━━━━━━━━━━━━━━━━━\u001b[0m\u001b[37m\u001b[0m \u001b[1m10s\u001b[0m 12ms/step - accuracy: 1.0000 - loss: 0.0565 - val_accuracy: 0.5000 - val_loss: 0.3878\n",
      "Epoch 19/30\n",
      "\u001b[1m405/405\u001b[0m \u001b[32m━━━━━━━━━━━━━━━━━━━━\u001b[0m\u001b[37m\u001b[0m \u001b[1m2940s\u001b[0m 7s/step - accuracy: 0.9803 - loss: 0.0607 - val_accuracy: 0.3359 - val_loss: 4.6884\n",
      "Epoch 20/30\n",
      "\u001b[1m405/405\u001b[0m \u001b[32m━━━━━━━━━━━━━━━━━━━━\u001b[0m\u001b[37m\u001b[0m \u001b[1m11s\u001b[0m 14ms/step - accuracy: 1.0000 - loss: 0.0082 - val_accuracy: 0.0000e+00 - val_loss: 6.1456\n",
      "Epoch 21/30\n",
      "\u001b[1m405/405\u001b[0m \u001b[32m━━━━━━━━━━━━━━━━━━━━\u001b[0m\u001b[37m\u001b[0m \u001b[1m3016s\u001b[0m 7s/step - accuracy: 0.9816 - loss: 0.0552 - val_accuracy: 0.3366 - val_loss: 4.7543\n",
      "Epoch 22/30\n",
      "\u001b[1m405/405\u001b[0m \u001b[32m━━━━━━━━━━━━━━━━━━━━\u001b[0m\u001b[37m\u001b[0m \u001b[1m24s\u001b[0m 19ms/step - accuracy: 0.9688 - loss: 0.0785 - val_accuracy: 0.0000e+00 - val_loss: 6.5064\n",
      "Epoch 23/30\n",
      "\u001b[1m405/405\u001b[0m \u001b[32m━━━━━━━━━━━━━━━━━━━━\u001b[0m\u001b[37m\u001b[0m \u001b[1m4228s\u001b[0m 10s/step - accuracy: 0.9826 - loss: 0.0557 - val_accuracy: 0.3438 - val_loss: 5.2212\n",
      "Epoch 24/30\n",
      "\u001b[1m405/405\u001b[0m \u001b[32m━━━━━━━━━━━━━━━━━━━━\u001b[0m\u001b[37m\u001b[0m \u001b[1m8s\u001b[0m 8ms/step - accuracy: 1.0000 - loss: 0.0318 - val_accuracy: 0.0000e+00 - val_loss: 6.8667\n",
      "Epoch 24: early stopping\n",
      "Restoring model weights from the end of the best epoch: 14.\n"
     ]
    }
   ],
   "source": [
    "trainedHistory = trainModel(model_e)"
   ]
  },
  {
   "cell_type": "code",
   "execution_count": 54,
   "metadata": {},
   "outputs": [],
   "source": [
    "def validationReport(model):\n",
    "    y_pred = model.predict(validation_generator) \n",
    "    y_pred_classes = (y_pred > 0.5).astype(\"int32\") # For binary classification \n",
    "    y_true = validation_generator.classes # Generate classification report \n",
    "    print(\"Validation Generator\")\n",
    "    print(classification_report(y_true, y_pred_classes)) # Print confusion matrix \n",
    "    print(confusion_matrix(y_true, y_pred_classes))\n",
    "\n",
    "def testReport(model):\n",
    "    y_pred = model.predict(test_generator)\n",
    "    y_pred_classes = (y_pred > 0.5).astype(\"int32\") # For binary classification \n",
    "    y_true = test_generator.classes # Generate classification report \n",
    "    print(\"Test Generator\")\n",
    "    print(classification_report(y_true, y_pred_classes)) # Print confusion matrix \n",
    "    print(confusion_matrix(y_true, y_pred_classes))"
   ]
  },
  {
   "cell_type": "code",
   "execution_count": 55,
   "metadata": {},
   "outputs": [
    {
     "name": "stdout",
     "output_type": "stream",
     "text": [
      "\u001b[1m136/136\u001b[0m \u001b[32m━━━━━━━━━━━━━━━━━━━━\u001b[0m\u001b[37m\u001b[0m \u001b[1m1444s\u001b[0m 10s/step\n",
      "Validation Generator\n",
      "              precision    recall  f1-score   support\n",
      "\n",
      "           0       0.28      0.78      0.42      1238\n",
      "           1       0.70      0.21      0.33      3084\n",
      "\n",
      "    accuracy                           0.38      4322\n",
      "   macro avg       0.49      0.50      0.37      4322\n",
      "weighted avg       0.58      0.38      0.35      4322\n",
      "\n",
      "[[ 961  277]\n",
      " [2423  661]]\n",
      "------------\n"
     ]
    },
    {
     "name": "stderr",
     "output_type": "stream",
     "text": [
      "C:\\Users\\Dell\\AppData\\Roaming\\Python\\Python312\\site-packages\\keras\\src\\trainers\\data_adapters\\py_dataset_adapter.py:121: UserWarning: Your `PyDataset` class should call `super().__init__(**kwargs)` in its constructor. `**kwargs` can include `workers`, `use_multiprocessing`, `max_queue_size`. Do not pass these arguments to `fit()`, as they will be ignored.\n",
      "  self._warn_if_super_not_called()\n"
     ]
    },
    {
     "name": "stdout",
     "output_type": "stream",
     "text": [
      "\u001b[1m136/136\u001b[0m \u001b[32m━━━━━━━━━━━━━━━━━━━━\u001b[0m\u001b[37m\u001b[0m \u001b[1m1438s\u001b[0m 11s/step\n",
      "Test Generator\n",
      "              precision    recall  f1-score   support\n",
      "\n",
      "           0       0.28      0.78      0.42      1239\n",
      "           1       0.70      0.21      0.32      3084\n",
      "\n",
      "    accuracy                           0.37      4323\n",
      "   macro avg       0.49      0.50      0.37      4323\n",
      "weighted avg       0.58      0.37      0.35      4323\n",
      "\n",
      "[[ 969  270]\n",
      " [2439  645]]\n"
     ]
    }
   ],
   "source": [
    "model_valAcc_50 = load_model('E:\\\\MS_USD\\\\Course 2_AAI-501\\\\FinalProject\\\\NewModels\\\\vgg16Model_checkpoint_12_val_acc_0.50.keras')\n",
    "validationReport(model_valAcc_50)\n",
    "print(\"------------\")\n",
    "testReport(model_valAcc_50)"
   ]
  },
  {
   "cell_type": "code",
   "execution_count": 56,
   "metadata": {},
   "outputs": [
    {
     "name": "stdout",
     "output_type": "stream",
     "text": [
      "\u001b[1m136/136\u001b[0m \u001b[32m━━━━━━━━━━━━━━━━━━━━\u001b[0m\u001b[37m\u001b[0m \u001b[1m1376s\u001b[0m 10s/step\n",
      "Validation Generator\n",
      "              precision    recall  f1-score   support\n",
      "\n",
      "           0       0.29      0.85      0.43      1238\n",
      "           1       0.72      0.16      0.26      3084\n",
      "\n",
      "    accuracy                           0.36      4322\n",
      "   macro avg       0.51      0.50      0.35      4322\n",
      "weighted avg       0.60      0.36      0.31      4322\n",
      "\n",
      "[[1047  191]\n",
      " [2584  500]]\n",
      "------------\n",
      "\u001b[1m136/136\u001b[0m \u001b[32m━━━━━━━━━━━━━━━━━━━━\u001b[0m\u001b[37m\u001b[0m \u001b[1m1402s\u001b[0m 10s/step\n",
      "Test Generator\n",
      "              precision    recall  f1-score   support\n",
      "\n",
      "           0       0.28      0.85      0.43      1239\n",
      "           1       0.70      0.14      0.24      3084\n",
      "\n",
      "    accuracy                           0.34      4323\n",
      "   macro avg       0.49      0.50      0.33      4323\n",
      "weighted avg       0.58      0.34      0.29      4323\n",
      "\n",
      "[[1052  187]\n",
      " [2646  438]]\n"
     ]
    }
   ],
   "source": [
    "model_valAcc_34 = load_model('E:\\\\MS_USD\\\\Course 2_AAI-501\\\\FinalProject\\\\NewModels\\\\vgg16Model_checkpoint_23_val_acc_0.34.keras')\n",
    "validationReport(model_valAcc_34)\n",
    "print(\"------------\")\n",
    "testReport(model_valAcc_34)"
   ]
  },
  {
   "cell_type": "code",
   "execution_count": 57,
   "metadata": {},
   "outputs": [
    {
     "name": "stdout",
     "output_type": "stream",
     "text": [
      "\u001b[1m136/136\u001b[0m \u001b[32m━━━━━━━━━━━━━━━━━━━━\u001b[0m\u001b[37m\u001b[0m \u001b[1m1368s\u001b[0m 10s/step\n",
      "Validation Generator\n",
      "              precision    recall  f1-score   support\n",
      "\n",
      "           0       0.29      0.84      0.43      1238\n",
      "           1       0.71      0.16      0.26      3084\n",
      "\n",
      "    accuracy                           0.35      4322\n",
      "   macro avg       0.50      0.50      0.34      4322\n",
      "weighted avg       0.59      0.35      0.31      4322\n",
      "\n",
      "[[1037  201]\n",
      " [2595  489]]\n",
      "------------\n",
      "\u001b[1m136/136\u001b[0m \u001b[32m━━━━━━━━━━━━━━━━━━━━\u001b[0m\u001b[37m\u001b[0m \u001b[1m1390s\u001b[0m 10s/step\n",
      "Test Generator\n",
      "              precision    recall  f1-score   support\n",
      "\n",
      "           0       0.28      0.85      0.43      1239\n",
      "           1       0.70      0.14      0.23      3084\n",
      "\n",
      "    accuracy                           0.34      4323\n",
      "   macro avg       0.49      0.50      0.33      4323\n",
      "weighted avg       0.58      0.34      0.29      4323\n",
      "\n",
      "[[1056  183]\n",
      " [2654  430]]\n"
     ]
    }
   ],
   "source": [
    "model_valAcc_40E = load_model('E:\\\\MS_USD\\\\Course 2_AAI-501\\\\FinalProject\\\\NewModels\\\\vgg16Model_checkpoint_24_val_acc_0.00.keras')\n",
    "validationReport(model_valAcc_40E)\n",
    "print(\"------------\")\n",
    "testReport(model_valAcc_40E)"
   ]
  },
  {
   "cell_type": "code",
   "execution_count": null,
   "metadata": {},
   "outputs": [],
   "source": [
    "trainedHistory = trainModel(model_e)"
   ]
  }
 ],
 "metadata": {
  "kernelspec": {
   "display_name": "base",
   "language": "python",
   "name": "python3"
  },
  "language_info": {
   "codemirror_mode": {
    "name": "ipython",
    "version": 3
   },
   "file_extension": ".py",
   "mimetype": "text/x-python",
   "name": "python",
   "nbconvert_exporter": "python",
   "pygments_lexer": "ipython3",
   "version": "3.12.4"
  }
 },
 "nbformat": 4,
 "nbformat_minor": 2
}
