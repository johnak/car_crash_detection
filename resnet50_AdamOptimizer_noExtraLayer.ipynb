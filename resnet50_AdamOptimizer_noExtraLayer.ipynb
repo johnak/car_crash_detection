{
 "cells": [
  {
   "cell_type": "markdown",
   "id": "29b7c0e6-fb88-40b9-9fc5-c92651c8e067",
   "metadata": {},
   "source": [
    "The notebook is used to train the ResNet50 model using the processed image dataset. The training was done using tensorflow and the model was saved for further analysis."
   ]
  },
  {
   "cell_type": "code",
   "execution_count": null,
   "id": "c9f4b908-e35a-413e-b00f-c3a2b89d79fd",
   "metadata": {
    "id": "c9f4b908-e35a-413e-b00f-c3a2b89d79fd"
   },
   "outputs": [],
   "source": [
    "# Import required modules\n",
    "import tensorflow as tf\n",
    "from tensorflow.keras.applications import ResNet50\n",
    "from tensorflow.keras import layers, models"
   ]
  },
  {
   "cell_type": "code",
   "execution_count": null,
   "id": "5da7d8a3-1ebb-4529-8d5e-056f7cfddd76",
   "metadata": {
    "id": "5da7d8a3-1ebb-4529-8d5e-056f7cfddd76"
   },
   "outputs": [],
   "source": [
    "# Setup dataset paths\n",
    "train_dir = \"ImageDataset/Train\"\n",
    "val_dir = \"ImageDataset/Validation\"\n",
    "test_dir = \"ImageDataset/Test\""
   ]
  },
  {
   "cell_type": "code",
   "execution_count": null,
   "id": "VY0ZIBAImKB-",
   "metadata": {
    "colab": {
     "base_uri": "https://localhost:8080/"
    },
    "id": "VY0ZIBAImKB-",
    "outputId": "0172e734-8261-4663-a1d8-af38c25f39b3"
   },
   "outputs": [],
   "source": [
    "# Load dataset\n",
    "IMG_SIZE = (224, 224)\n",
    "BATCH_SIZE = 32\n",
    "\n",
    "train_dataset = tf.keras.utils.image_dataset_from_directory(\n",
    "    train_dir,\n",
    "    image_size=IMG_SIZE,\n",
    "    batch_size=BATCH_SIZE\n",
    "    )\n",
    "\n",
    "val_dataset = tf.keras.utils.image_dataset_from_directory(\n",
    "    val_dir,\n",
    "    image_size=IMG_SIZE,\n",
    "    batch_size=BATCH_SIZE\n",
    "    )\n",
    "\n",
    "test_dataset = tf.keras.utils.image_dataset_from_directory(\n",
    "    test_dir,\n",
    "    image_size=IMG_SIZE,\n",
    "    batch_size=BATCH_SIZE\n",
    "    )\n"
   ]
  },
  {
   "cell_type": "code",
   "execution_count": null,
   "id": "tudVvXoeqOPm",
   "metadata": {
    "id": "tudVvXoeqOPm"
   },
   "outputs": [],
   "source": [
    "# Normalize the images\n",
    "normalization_layer = tf.keras.layers.Rescaling(1./255)\n",
    "train_dataset = train_dataset.map(lambda x, y: (normalization_layer(x), y))\n",
    "val_dataset = val_dataset.map(lambda x, y: (normalization_layer(x), y))\n",
    "test_dataset = test_dataset.map(lambda x, y: (normalization_layer(x), y))"
   ]
  },
  {
   "cell_type": "code",
   "execution_count": null,
   "id": "PWLFsgDaqcFs",
   "metadata": {
    "id": "PWLFsgDaqcFs"
   },
   "outputs": [],
   "source": [
    "# Load the ResNet50 model\n",
    "base_model = ResNet50(weights=\"imagenet\", include_top=False, input_shape=(224, 224, 3))\n",
    "\n",
    "# Freeze base model layers\n",
    "base_model.trainable = False\n",
    "\n",
    "# Add custom layers for classification\n",
    "model = models.Sequential([\n",
    "    base_model,\n",
    "    layers.GlobalAveragePooling2D(),\n",
    "    layers.Dense(256, activation='relu'),\n",
    "    layers.Dropout(0.5),\n",
    "    layers.Dense(1, activation='sigmoid')  # Sigmoid for binary classification\n",
    "])\n",
    "\n",
    "# Compile the model\n",
    "model.compile(optimizer='adam', loss='binary_crossentropy', metrics=['accuracy'])\n"
   ]
  },
  {
   "cell_type": "code",
   "execution_count": null,
   "id": "FytDoCkvrZsX",
   "metadata": {
    "id": "FytDoCkvrZsX"
   },
   "outputs": [],
   "source": [
    "# Train the model\n",
    "history = model.fit(\n",
    "    train_dataset,\n",
    "    validation_data=val_dataset,\n",
    "    epochs=10\n",
    ")\n"
   ]
  },
  {
   "cell_type": "code",
   "execution_count": null,
   "id": "3N4DOKm3sVzs",
   "metadata": {
    "id": "3N4DOKm3sVzs"
   },
   "outputs": [],
   "source": [
    "# Save the model\n",
    "model.save(\"resnet50_model_10Epochs.keras\")\n",
    "\n",
    "test_loss, test_accuracy = model.evaluate(test_dataset)\n",
    "print(f\"Test Accuracy: {test_accuracy}\")"
   ]
  }
 ],
 "metadata": {
  "colab": {
   "provenance": []
  },
  "kernelspec": {
   "display_name": "Python 3 (ipykernel)",
   "language": "python",
   "name": "python3"
  },
  "language_info": {
   "codemirror_mode": {
    "name": "ipython",
    "version": 3
   },
   "file_extension": ".py",
   "mimetype": "text/x-python",
   "name": "python",
   "nbconvert_exporter": "python",
   "pygments_lexer": "ipython3",
   "version": "3.9.13"
  }
 },
 "nbformat": 4,
 "nbformat_minor": 5
}
