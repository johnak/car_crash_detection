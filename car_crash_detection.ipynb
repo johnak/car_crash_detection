{
  "cells": [
    {
      "cell_type": "code",
      "execution_count": 1,
      "id": "c9f4b908-e35a-413e-b00f-c3a2b89d79fd",
      "metadata": {
        "id": "c9f4b908-e35a-413e-b00f-c3a2b89d79fd"
      },
      "outputs": [],
      "source": [
        "import tensorflow as tf\n",
        "from tensorflow.keras.applications import ResNet50\n",
        "from tensorflow.keras import layers, models"
      ]
    },
    {
      "cell_type": "code",
      "execution_count": 2,
      "id": "d4727c6a-6f0f-45c6-abb9-843c94c1d37f",
      "metadata": {
        "id": "d4727c6a-6f0f-45c6-abb9-843c94c1d37f",
        "colab": {
          "base_uri": "https://localhost:8080/"
        },
        "outputId": "4c4cf696-cc0d-47ec-b82f-f8ec59b4e39e"
      },
      "outputs": [
        {
          "output_type": "stream",
          "name": "stdout",
          "text": [
            "Mounted at /content/drive\n"
          ]
        }
      ],
      "source": [
        "from google.colab import drive\n",
        "drive.mount('/content/drive')"
      ]
    },
    {
      "cell_type": "code",
      "execution_count": 3,
      "id": "5da7d8a3-1ebb-4529-8d5e-056f7cfddd76",
      "metadata": {
        "id": "5da7d8a3-1ebb-4529-8d5e-056f7cfddd76"
      },
      "outputs": [],
      "source": [
        "# Setup dataset paths\n",
        "train_dir = \"Dataset/Train\"\n",
        "val_dir = \"Dataset/Validation\"\n",
        "test_dir = \"Dataset/Test\"\n",
        "\n",
        "dataset_path = '/content/drive/MyDrive/AAI-501-A1 Introduction to Artificial Intelligence/Project/AAI-501_ Dataset'\n",
        "\n",
        "train_dir = dataset_path + '/' + 'Train'\n",
        "val_dir = dataset_path + '/' + 'Validation'\n",
        "test_dir = dataset_path + '/' + 'Test'\n",
        "\n"
      ]
    },
    {
      "cell_type": "code",
      "source": [
        "# Load dataset\n",
        "IMG_SIZE = (224, 224)\n",
        "BATCH_SIZE = 32\n",
        "\n",
        "train_dataset = tf.keras.utils.image_dataset_from_directory(\n",
        "    train_dir,\n",
        "    image_size=IMG_SIZE,\n",
        "    batch_size=BATCH_SIZE\n",
        "    )\n",
        "\n",
        "val_dataset = tf.keras.utils.image_dataset_from_directory(\n",
        "    val_dir,\n",
        "    image_size=IMG_SIZE,\n",
        "    batch_size=BATCH_SIZE\n",
        "    )\n",
        "\n",
        "test_dataset = tf.keras.utils.image_dataset_from_directory(\n",
        "    test_dir,\n",
        "    image_size=IMG_SIZE,\n",
        "    batch_size=BATCH_SIZE\n",
        "    )\n",
        "\n",
        "\n"
      ],
      "metadata": {
        "id": "VY0ZIBAImKB-",
        "colab": {
          "base_uri": "https://localhost:8080/"
        },
        "outputId": "0172e734-8261-4663-a1d8-af38c25f39b3"
      },
      "id": "VY0ZIBAImKB-",
      "execution_count": 4,
      "outputs": [
        {
          "output_type": "stream",
          "name": "stdout",
          "text": [
            "Found 12976 files belonging to 2 classes.\n",
            "Found 4332 files belonging to 2 classes.\n",
            "Found 4323 files belonging to 2 classes.\n"
          ]
        }
      ]
    },
    {
      "cell_type": "code",
      "source": [
        "# Normalize the images\n",
        "normalization_layer = tf.keras.layers.Rescaling(1./255)\n",
        "train_dataset = train_dataset.map(lambda x, y: (normalization_layer(x), y))\n",
        "val_dataset = val_dataset.map(lambda x, y: (normalization_layer(x), y))\n",
        "test_dataset = test_dataset.map(lambda x, y: (normalization_layer(x), y))"
      ],
      "metadata": {
        "id": "tudVvXoeqOPm"
      },
      "id": "tudVvXoeqOPm",
      "execution_count": 5,
      "outputs": []
    },
    {
      "cell_type": "code",
      "source": [
        "# Load the ResNet50 model\n",
        "base_model = ResNet50(weights=\"imagenet\", include_top=False, input_shape=(224, 224, 3))\n",
        "\n",
        "# Freeze base model layers\n",
        "base_model.trainable = False\n",
        "\n",
        "# Add custom layers for classification\n",
        "model = models.Sequential([\n",
        "    base_model,\n",
        "    layers.GlobalAveragePooling2D(),\n",
        "    layers.Dense(256, activation='relu'),\n",
        "    layers.Dropout(0.5),\n",
        "    layers.Dense(1, activation='sigmoid')  # Sigmoid for binary classification\n",
        "])\n",
        "\n",
        "# Compile the model\n",
        "model.compile(optimizer='adam', loss='binary_crossentropy', metrics=['accuracy'])\n"
      ],
      "metadata": {
        "id": "PWLFsgDaqcFs"
      },
      "id": "PWLFsgDaqcFs",
      "execution_count": null,
      "outputs": []
    },
    {
      "cell_type": "code",
      "source": [
        "# Train the model\n",
        "history = model.fit(\n",
        "    train_dataset,\n",
        "    validation_data=val_dataset,\n",
        "    epochs=10\n",
        ")\n"
      ],
      "metadata": {
        "collapsed": true,
        "id": "FytDoCkvrZsX"
      },
      "id": "FytDoCkvrZsX",
      "execution_count": null,
      "outputs": []
    },
    {
      "cell_type": "code",
      "source": [
        "model_path = '/content/drive/MyDrive/AAI-501-A1 Introduction to Artificial Intelligence/Project'\n",
        "\n",
        "# Save the model\n",
        "model.save(model_path + \"/\" + \"model_resnet50.keras\")\n",
        "\n",
        "test_loss, test_accuracy = model.evaluate(test_dataset)\n",
        "print(f\"Test Accuracy: {test_accuracy}\")"
      ],
      "metadata": {
        "id": "3N4DOKm3sVzs"
      },
      "id": "3N4DOKm3sVzs",
      "execution_count": null,
      "outputs": []
    },
    {
      "cell_type": "code",
      "source": [
        "from tensorflow.keras.models import load_model\n",
        "\n",
        "model_path = '/content/drive/MyDrive/AAI-501-A1 Introduction to Artificial Intelligence/Project'\n",
        "\n",
        "# Load the saved model\n",
        "model = load_model(model_path + \"/\" + \"model_resnet50.keras\")"
      ],
      "metadata": {
        "id": "tYV2cR1-Ztxy"
      },
      "id": "tYV2cR1-Ztxy",
      "execution_count": 6,
      "outputs": []
    },
    {
      "cell_type": "code",
      "source": [
        "# Evaluate on test data\n",
        "test_loss, test_accuracy = model.evaluate(test_dataset)\n",
        "print(f\"Test Loss: {test_loss}\")\n",
        "print(f\"Test Accuracy: {test_accuracy}\")"
      ],
      "metadata": {
        "id": "y9Ts1qGTaSAn",
        "outputId": "9d0aba8f-fc4b-4a1f-e045-e3eaa6856e52",
        "colab": {
          "base_uri": "https://localhost:8080/"
        }
      },
      "id": "y9Ts1qGTaSAn",
      "execution_count": 7,
      "outputs": [
        {
          "output_type": "stream",
          "name": "stdout",
          "text": [
            "\u001b[1m136/136\u001b[0m \u001b[32m━━━━━━━━━━━━━━━━━━━━\u001b[0m\u001b[37m\u001b[0m \u001b[1m905s\u001b[0m 7s/step - accuracy: 0.4998 - loss: 0.9232\n",
            "Test Loss: 0.9178126454353333\n",
            "Test Accuracy: 0.5026602149009705\n"
          ]
        }
      ]
    },
    {
      "cell_type": "code",
      "source": [
        "from sklearn.metrics import classification_report, confusion_matrix\n",
        "import numpy as np\n",
        "\n",
        "# Get ground truth labels and predictions\n",
        "y_true = np.concatenate([y for x, y in test_dataset], axis=0)\n",
        "y_pred = model.predict(test_dataset)\n",
        "# For binary classification\n",
        "y_pred_classes = (y_pred > 0.5).astype(\"int32\").flatten()\n",
        "\n",
        "# Compute metrics\n",
        "print(\"Confusion Matrix:\")\n",
        "print(confusion_matrix(y_true, y_pred_classes))\n",
        "print(\"\\nClassification Report:\")\n",
        "print(classification_report(y_true, y_pred_classes))"
      ],
      "metadata": {
        "id": "FP7W8uMHafnC",
        "outputId": "5a11c1f7-713b-4611-eed3-d9f5676367ad",
        "colab": {
          "base_uri": "https://localhost:8080/"
        }
      },
      "id": "FP7W8uMHafnC",
      "execution_count": 8,
      "outputs": [
        {
          "output_type": "stream",
          "name": "stdout",
          "text": [
            "\u001b[1m136/136\u001b[0m \u001b[32m━━━━━━━━━━━━━━━━━━━━\u001b[0m\u001b[37m\u001b[0m \u001b[1m869s\u001b[0m 6s/step\n",
            "Confusion Matrix:\n",
            "[[ 593  646]\n",
            " [1370 1714]]\n",
            "\n",
            "Classification Report:\n",
            "              precision    recall  f1-score   support\n",
            "\n",
            "           0       0.30      0.48      0.37      1239\n",
            "           1       0.73      0.56      0.63      3084\n",
            "\n",
            "    accuracy                           0.53      4323\n",
            "   macro avg       0.51      0.52      0.50      4323\n",
            "weighted avg       0.60      0.53      0.56      4323\n",
            "\n"
          ]
        }
      ]
    },
    {
      "cell_type": "code",
      "source": [
        "import seaborn as sns\n",
        "import matplotlib.pyplot as plt\n",
        "\n",
        "cm = confusion_matrix(y_true, y_pred_classes)\n",
        "plt.figure(figsize=(8, 6))\n",
        "sns.heatmap(cm, annot=True, fmt='d', cmap='Blues', xticklabels=[\"NonAccident\", \"Accident\"], yticklabels=[\"NonAccident\", \"Accident\"])\n",
        "plt.xlabel('Predicted')\n",
        "plt.ylabel('True')\n",
        "plt.title('Confusion Matrix')\n",
        "plt.show()"
      ],
      "metadata": {
        "id": "AueqC9QHl910",
        "outputId": "d12adced-7560-49f5-9be1-3071e08f8673",
        "colab": {
          "base_uri": "https://localhost:8080/",
          "height": 564
        }
      },
      "id": "AueqC9QHl910",
      "execution_count": 9,
      "outputs": [
        {
          "output_type": "display_data",
          "data": {
            "text/plain": [
              "<Figure size 800x600 with 2 Axes>"
            ],
            "image/png": "[encoded data removed]"
          },
          "metadata": {}
        }
      ]
    }
  ],
  "metadata": {
    "kernelspec": {
      "display_name": "Python 3",
      "name": "python3"
    },
    "language_info": {
      "codemirror_mode": {
        "name": "ipython",
        "version": 3
      },
      "file_extension": ".py",
      "mimetype": "text/x-python",
      "name": "python",
      "nbconvert_exporter": "python",
      "pygments_lexer": "ipython3",
      "version": "3.9.13"
    },
    "colab": {
      "provenance": []
    }
  },
  "nbformat": 4,
  "nbformat_minor": 5
}